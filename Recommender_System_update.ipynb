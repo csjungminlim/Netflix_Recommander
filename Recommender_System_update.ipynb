{
 "cells": [
  {
   "cell_type": "markdown",
   "metadata": {},
   "source": [
    "# Netflix Recommender System\n",
    "\n",
    "추천 시스템(recommender system)이란 사용자(user)가 상품(item)에 대해 어떻게 평가하는지 예측하는 시스템의 일종이다. Netflix에서 제공한 netflix-prize-data의 경우 17770개의 영화에 대한 고객 2649429명 평점 정보가 저장되어있다. 이 정보를 가지고 사용자가 아직 평가하지 않은 영화에 대한 평점을 예측하는 것이 이번 프로젝트의 목표이다."
   ]
  },
  {
   "cell_type": "markdown",
   "metadata": {},
   "source": [
    "# Surprise 패키지\n",
    "\n",
    "이번 프로젝트에서는 파이썬의 Surprise 패키지를 사용하여 추천 시스템을 구현해 본다. Surprise 패키지는 Nicola Hug가 만든 오픈 소스 추천 시스템 패키로 문서화가 잘 되어 있다.\n",
    "\n",
    "- https://github.com/NicolasHug/Surprise"
   ]
  },
  {
   "cell_type": "markdown",
   "metadata": {},
   "source": [
    "# 데이터\n",
    "\n",
    "넷플릭스에서 제공하는 netflix-prize-data를 사용한다.\n",
    "- https://www.kaggle.com/netflix-inc/netflix-prize-data\n",
    "\n",
    "\n",
    "### Netflix-prize-data INFO\n",
    "\n",
    "CustomerID,Rating,Date\n",
    "    - MovieIDs range from 1 to 17770 sequentially.\n",
    "    - CustomerIDs range from 1 to 2649429, with gaps. There are 480189 users.\n",
    "    - Ratings are on a five star (integral) scale from 1 to 5.\n",
    "    - Dates have the format YYYY-MM-DD."
   ]
  },
  {
   "cell_type": "code",
   "execution_count": 10,
   "metadata": {},
   "outputs": [],
   "source": [
    "import numpy as np\n",
    "import pandas as pd\n",
    "import matplotlib.pyplot as plt\n",
    "import sys\n",
    "import surprise"
   ]
  },
  {
   "cell_type": "markdown",
   "metadata": {},
   "source": [
    "## 데이터 전처리\n",
    "\n",
    "1. netflix-prize-data의 combined_data_1.txt를 오픈\n",
    "2. surprise 패키지에 사용하기 위한 custom_data_file 생성"
   ]
  },
  {
   "cell_type": "code",
   "execution_count": 11,
   "metadata": {},
   "outputs": [],
   "source": [
    "data_file = open(\"/Users/limjungmin/Netflix_Recommender/netflix-prize-data/combined_data_1.txt\")\n",
    "# combined_data_1.txt에는 4499개의 movieID가 저장되어있음.\n",
    "\n",
    "custom_data_file = open(\"/Users/limjungmin/Netflix_Recommender/u.data\", 'w')"
   ]
  },
  {
   "cell_type": "markdown",
   "metadata": {},
   "source": [
    "3. 원본데이터의 경우\n",
    "    \n",
    "    movieID:\n",
    "    userID, Rank, Date 의 형태로 저장되어있다.\n",
    "   \n",
    "   \n",
    "4. Surprise 패키지를 사용하기위해 dataset을 custom 해줘야하는데\n",
    "\n",
    "    userID; movieID; Rank 의 형태로 파일을 수정해야한다.\n",
    "   \n",
    "    \n",
    "   "
   ]
  },
  {
   "cell_type": "code",
   "execution_count": 12,
   "metadata": {},
   "outputs": [
    {
     "name": "stdout",
     "output_type": "stream",
     "text": [
      "Done\n"
     ]
    }
   ],
   "source": [
    "cnt = 0\n",
    "for line in data_file:\n",
    "\n",
    "    if \":\" in line:\n",
    "        movieID = line.split(\":\")[0]\n",
    "        #print(movieID)\n",
    "        cnt+=1\n",
    "    else :\n",
    "        \n",
    "        info = line.split(\",\")\n",
    "\n",
    "        userID = info[0]\n",
    "        rating = info[1]\n",
    "        date = info[2].split('\\n')[0]\n",
    "\n",
    "    str = userID + \";\" + movieID + \";\" + rating + \"\\r\\n\"\n",
    "    custom_data_file.write(str)\n",
    "    \n",
    "    if cnt > 50 : break\n",
    "    \n",
    "print(\"Done\")"
   ]
  },
  {
   "cell_type": "markdown",
   "metadata": {},
   "source": [
    "## Use a custom dataset\n",
    "참고: https://surprise.readthedocs.io/en/latest/getting_started.html#use-a-custom-dataset"
   ]
  },
  {
   "cell_type": "code",
   "execution_count": 13,
   "metadata": {},
   "outputs": [],
   "source": [
    "reader = surprise.Reader(line_format='user item rating', sep=';')"
   ]
  },
  {
   "cell_type": "code",
   "execution_count": 14,
   "metadata": {},
   "outputs": [],
   "source": [
    "data = surprise.Dataset.load_from_file('/Users/limjungmin/Netflix_Recommender/u.data', reader=reader)"
   ]
  },
  {
   "cell_type": "code",
   "execution_count": 15,
   "metadata": {},
   "outputs": [],
   "source": [
    "df = pd.DataFrame(data.raw_ratings, columns=[\"user\", \"item\", \"rate\", \"id\"])\n",
    "del df[\"id\"]"
   ]
  },
  {
   "cell_type": "markdown",
   "metadata": {},
   "source": [
    "- 포맷 변경후 dataframe으로 변환하여 저장 후 출력 (테스트를 위해 50개의 영화를 대상으로만 진행)"
   ]
  },
  {
   "cell_type": "code",
   "execution_count": 17,
   "metadata": {},
   "outputs": [
    {
     "data": {
      "text/html": [
       "<div>\n",
       "<style scoped>\n",
       "    .dataframe tbody tr th:only-of-type {\n",
       "        vertical-align: middle;\n",
       "    }\n",
       "\n",
       "    .dataframe tbody tr th {\n",
       "        vertical-align: top;\n",
       "    }\n",
       "\n",
       "    .dataframe thead th {\n",
       "        text-align: right;\n",
       "    }\n",
       "</style>\n",
       "<table border=\"1\" class=\"dataframe\">\n",
       "  <thead>\n",
       "    <tr style=\"text-align: right;\">\n",
       "      <th></th>\n",
       "      <th>user</th>\n",
       "      <th>item</th>\n",
       "      <th>rate</th>\n",
       "    </tr>\n",
       "  </thead>\n",
       "  <tbody>\n",
       "    <tr>\n",
       "      <th>0</th>\n",
       "      <td>1488844</td>\n",
       "      <td>1</td>\n",
       "      <td>3.0</td>\n",
       "    </tr>\n",
       "    <tr>\n",
       "      <th>1</th>\n",
       "      <td>822109</td>\n",
       "      <td>1</td>\n",
       "      <td>5.0</td>\n",
       "    </tr>\n",
       "    <tr>\n",
       "      <th>2</th>\n",
       "      <td>885013</td>\n",
       "      <td>1</td>\n",
       "      <td>4.0</td>\n",
       "    </tr>\n",
       "    <tr>\n",
       "      <th>3</th>\n",
       "      <td>30878</td>\n",
       "      <td>1</td>\n",
       "      <td>4.0</td>\n",
       "    </tr>\n",
       "    <tr>\n",
       "      <th>4</th>\n",
       "      <td>823519</td>\n",
       "      <td>1</td>\n",
       "      <td>3.0</td>\n",
       "    </tr>\n",
       "    <tr>\n",
       "      <th>5</th>\n",
       "      <td>893988</td>\n",
       "      <td>1</td>\n",
       "      <td>3.0</td>\n",
       "    </tr>\n",
       "    <tr>\n",
       "      <th>6</th>\n",
       "      <td>124105</td>\n",
       "      <td>1</td>\n",
       "      <td>4.0</td>\n",
       "    </tr>\n",
       "    <tr>\n",
       "      <th>7</th>\n",
       "      <td>1248029</td>\n",
       "      <td>1</td>\n",
       "      <td>3.0</td>\n",
       "    </tr>\n",
       "    <tr>\n",
       "      <th>8</th>\n",
       "      <td>1842128</td>\n",
       "      <td>1</td>\n",
       "      <td>4.0</td>\n",
       "    </tr>\n",
       "    <tr>\n",
       "      <th>9</th>\n",
       "      <td>2238063</td>\n",
       "      <td>1</td>\n",
       "      <td>3.0</td>\n",
       "    </tr>\n",
       "  </tbody>\n",
       "</table>\n",
       "</div>"
      ],
      "text/plain": [
       "      user item  rate\n",
       "0  1488844    1   3.0\n",
       "1   822109    1   5.0\n",
       "2   885013    1   4.0\n",
       "3    30878    1   4.0\n",
       "4   823519    1   3.0\n",
       "5   893988    1   3.0\n",
       "6   124105    1   4.0\n",
       "7  1248029    1   3.0\n",
       "8  1842128    1   4.0\n",
       "9  2238063    1   3.0"
      ]
     },
     "execution_count": 17,
     "metadata": {},
     "output_type": "execute_result"
    }
   ],
   "source": [
    "df.head(10)"
   ]
  },
  {
   "cell_type": "markdown",
   "metadata": {},
   "source": [
    "## 평가 \n",
    "\n",
    "- Surprise 패키지의 cross_validate, KFold를 통해 훈련셋, 테스트셋을 나누어 예측값과 실제값의 비교를 간편히 진행할 수 있다.\n",
    "- 훈련에 사용한 알고리즘은 netflix prize에서 높은 성능을 보였던 SVD를 사용."
   ]
  },
  {
   "cell_type": "code",
   "execution_count": 18,
   "metadata": {},
   "outputs": [],
   "source": [
    "from surprise.model_selection import cross_validate\n",
    "from surprise.model_selection import KFold\n",
    "from surprise import SVD\n",
    "from surprise import accuracy"
   ]
  },
  {
   "cell_type": "code",
   "execution_count": 19,
   "metadata": {},
   "outputs": [],
   "source": [
    "kf = KFold(n_splits=3)"
   ]
  },
  {
   "cell_type": "code",
   "execution_count": 20,
   "metadata": {},
   "outputs": [],
   "source": [
    "algo = SVD()"
   ]
  },
  {
   "cell_type": "markdown",
   "metadata": {},
   "source": [
    "# 결과\n",
    "- cross_validate 사용"
   ]
  },
  {
   "cell_type": "code",
   "execution_count": 21,
   "metadata": {},
   "outputs": [
    {
     "name": "stdout",
     "output_type": "stream",
     "text": [
      "Evaluating RMSE, MAE of algorithm SVD on 5 split(s).\n",
      "\n",
      "                  Fold 1  Fold 2  Fold 3  Fold 4  Fold 5  Mean    Std     \n",
      "RMSE (testset)    1.0043  1.0081  1.0044  1.0053  1.0061  1.0056  0.0014  \n",
      "MAE (testset)     0.7942  0.7977  0.7981  0.7957  0.7919  0.7955  0.0023  \n",
      "Fit time          15.35   15.19   15.31   15.24   15.34   15.29   0.06    \n",
      "Test time         0.59    0.44    0.44    0.57    0.55    0.52    0.07    \n"
     ]
    },
    {
     "data": {
      "text/plain": [
       "{'fit_time': (15.349804878234863,\n",
       "  15.188567638397217,\n",
       "  15.311560869216919,\n",
       "  15.239234924316406,\n",
       "  15.339890241622925),\n",
       " 'test_mae': array([0.79420578, 0.79772248, 0.79814452, 0.79573241, 0.79193766]),\n",
       " 'test_rmse': array([1.0042949 , 1.00810347, 1.00435033, 1.00529254, 1.00611877]),\n",
       " 'test_time': (0.5936009883880615,\n",
       "  0.437593936920166,\n",
       "  0.43572211265563965,\n",
       "  0.5671873092651367,\n",
       "  0.5539419651031494)}"
      ]
     },
     "execution_count": 21,
     "metadata": {},
     "output_type": "execute_result"
    }
   ],
   "source": [
    "cross_validate(algo, data, measures=['RMSE', 'MAE'], cv=5, verbose=True)"
   ]
  },
  {
   "cell_type": "markdown",
   "metadata": {},
   "source": [
    "- KFold 기법 사용"
   ]
  },
  {
   "cell_type": "code",
   "execution_count": 22,
   "metadata": {},
   "outputs": [
    {
     "name": "stdout",
     "output_type": "stream",
     "text": [
      "RMSE: 1.0073\n",
      "RMSE: 1.0043\n",
      "RMSE: 1.0049\n"
     ]
    }
   ],
   "source": [
    "for trainset, testset in kf.split(data):\n",
    "    \n",
    "    # train and test algorithm.\n",
    "    algo.fit(trainset)\n",
    "    predictions = algo.test(testset)\n",
    "\n",
    "    # Compute and print Root Mean Squared Error\n",
    "    accuracy.rmse(predictions, verbose=True)"
   ]
  },
  {
   "cell_type": "markdown",
   "metadata": {},
   "source": [
    "## 보완해야 할 사항\n",
    "\n",
    "- 전체 데이터 전처리에는 시간소요가 많이 걸리지 않아 기존 병훈이의 데이터 전처리에 비해 월등히 빠름\n",
    "- 하지만, 현재 movieID 50개를 기준으로만 테스트해본 이유는 전체데이터를 대상으로 할 경우 알고리즘 학습에 많은 시간 소요\n",
    "- 훈련셋과 테스트셋을 시각화 하여 결측치를 어떤 값으로 예측했지는 좀 더 명확하게 판단하기 위한 모듈 보완\n",
    "- 더 많은 알고리즘으로 테스트 필요"
   ]
  }
 ],
 "metadata": {
  "kernelspec": {
   "display_name": "Python 3",
   "language": "python",
   "name": "python3"
  },
  "language_info": {
   "codemirror_mode": {
    "name": "ipython",
    "version": 3
   },
   "file_extension": ".py",
   "mimetype": "text/x-python",
   "name": "python",
   "nbconvert_exporter": "python",
   "pygments_lexer": "ipython3",
   "version": "3.6.4"
  }
 },
 "nbformat": 4,
 "nbformat_minor": 2
}
